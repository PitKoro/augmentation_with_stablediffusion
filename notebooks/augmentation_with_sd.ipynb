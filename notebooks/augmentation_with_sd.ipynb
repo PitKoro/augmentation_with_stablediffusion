{
 "cells": [
  {
   "cell_type": "markdown",
   "id": "3de71460-6d5c-4562-a699-c3d27a398f1e",
   "metadata": {},
   "source": [
    "# Экпериментальный метод аугментации данных при помощи модели Stable Diffusion\n",
    "# (Еще не тестил)\n",
    "\n",
    "Предварительно в label-studio разметили области в которых будем генерировать дефекты"
   ]
  },
  {
   "cell_type": "code",
   "execution_count": 1,
   "id": "f7c9bae5-4198-4da7-a382-b3b49ae234c3",
   "metadata": {},
   "outputs": [],
   "source": [
    "import json"
   ]
  },
  {
   "cell_type": "code",
   "execution_count": 2,
   "id": "cce56c20-7ff3-43e3-b765-a38f9e704daa",
   "metadata": {},
   "outputs": [
    {
     "ename": "FileNotFoundError",
     "evalue": "[Errno 2] No such file or directory: '/app/img/result.json'",
     "output_type": "error",
     "traceback": [
      "\u001b[0;31m---------------------------------------------------------------------------\u001b[0m",
      "\u001b[0;31mFileNotFoundError\u001b[0m                         Traceback (most recent call last)",
      "\u001b[0;32m/tmp/ipykernel_142/2321229539.py\u001b[0m in \u001b[0;36m<module>\u001b[0;34m\u001b[0m\n\u001b[0;32m----> 1\u001b[0;31m \u001b[0mann\u001b[0m \u001b[0;34m=\u001b[0m \u001b[0mjson\u001b[0m\u001b[0;34m.\u001b[0m\u001b[0mload\u001b[0m\u001b[0;34m(\u001b[0m\u001b[0mopen\u001b[0m\u001b[0;34m(\u001b[0m\u001b[0;34m'/app/img/result.json'\u001b[0m\u001b[0;34m)\u001b[0m\u001b[0;34m)\u001b[0m\u001b[0;34m\u001b[0m\u001b[0;34m\u001b[0m\u001b[0m\n\u001b[0m",
      "\u001b[0;31mFileNotFoundError\u001b[0m: [Errno 2] No such file or directory: '/app/img/result.json'"
     ]
    }
   ],
   "source": [
    "ann = json.load(open('/app/img/result.json'))"
   ]
  },
  {
   "cell_type": "code",
   "execution_count": null,
   "id": "0e00f905-c9fb-4571-8140-ea9263392f7e",
   "metadata": {
    "tags": []
   },
   "outputs": [],
   "source": [
    "categories_and_imgs_for_aug = {\n",
    "    \"0\" : [],\n",
    "    \"1\" : [],\n",
    "    \"2\" : [],\n",
    "    \"3\" : [],\n",
    "    \"4\" : [],\n",
    "}\n",
    "\n",
    "\n",
    "for ann_image in ann['images']:\n",
    "    img_id = ann_image['id']\n",
    "    img_name = ann_image['file_name']\n",
    "    \n",
    "    for ann_ann in ann['annotations']:\n",
    "        if ann_ann['image_id'] == img_id:\n",
    "            category_id = ann_ann['category_id']\n",
    "            categories_and_imgs_for_aug[str(category_id)].append(\n",
    "                {\n",
    "                    'bbox':ann_ann['bbox'],\n",
    "                    'file_name': img_name,\n",
    "                }\n",
    "            )\n",
    "\n",
    "            \n",
    "categories_and_imgs_for_aug"
   ]
  },
  {
   "cell_type": "code",
   "execution_count": null,
   "id": "678194b7-0f69-4a2a-bb00-734ca0c47c56",
   "metadata": {
    "tags": []
   },
   "outputs": [],
   "source": [
    "import os\n",
    "import math\n",
    "\n",
    "from PIL import Image, ImageDraw\n",
    "from chitra.image import Chitra\n",
    "\n",
    "\n",
    "aug_ann = dict()\n",
    "aug_ann['categories'] = ann['categories']\n",
    "aug_ann['info'] = ann['info']\n",
    "aug_ann['images'] = []\n",
    "aug_ann['annotations'] = []\n",
    "\n",
    "\n",
    "\n",
    "prompts_for_categories = {\n",
    "    \"0\" : 'fistual on a metal pipe', #Выход трубы из ряда\n",
    "    \"1\" : 'black corrosion crack on old metal pipe', #Крип\n",
    "    \"2\" : 'a long black crack on an old pipe located vertically', #Разрыв\n",
    "    \"3\" : 'black corrosion crack on old metal pipe', #Свищ\n",
    "    \"4\" : 'a long black crack on an old pipe located vertically', #Трещина\n",
    "}\n",
    "\n",
    "\n",
    "i=0\n",
    "image_id = 0\n",
    "annotaion_id = 0\n",
    "for category_id, annotations in categories_and_imgs_for_aug.items():\n",
    "    if(len(annotations) != 0):\n",
    "        for annotation in annotations:\n",
    "            print(annotations)\n",
    "\n",
    "            img_path = annotation['file_name']\n",
    "            img_name = os.path.basename(img_path)\n",
    "            img_name_without_ext = img_name.split('.')[0]\n",
    "            path_to_save_cropped_img = f\"/app/img/cropped/{img_name_without_ext}_crop_category{str(category_id)}_{i}.png\"\n",
    "            img = Image.open(img_path).convert('RGBA')\n",
    "            original_size = img.size\n",
    "            # img = img.resize((1380,800))\n",
    "            draw = ImageDraw.Draw(img)\n",
    "            bbox = annotation['bbox']\n",
    "            x0, y0 = (bbox[0], bbox[1])\n",
    "            x1, y1 = (x0 + bbox[2], y0 + bbox[3])\n",
    "            draw.rectangle([x0, y0, x1, y1], fill=(0,0,0,0)) #[(x0, y0), (x1, y1)]\n",
    "            img = img.resize((1380,800))\n",
    "            img.save(path_to_save_cropped_img)\n",
    "            \n",
    "            for j in range(100):\n",
    "                path_to_save_auged_img = f\"/app/img/augs/{img_name_without_ext}_aug_category{str(category_id)}_{i}_{j}.png\"\n",
    "                img = Image.open(path_to_save_cropped_img)\n",
    "                print(f\"predicted img: {path_to_save_cropped_img}\")\n",
    "                w,h = img.size\n",
    "                print(f\"positive prompt: {prompts_for_categories[str(category_id)]}\")\n",
    "                new_img = run_outpaint(\n",
    "                    img=img,\n",
    "                    prompt_text = prompts_for_categories[str(category_id)],\n",
    "                    negative_prompt_text='',\n",
    "                    strength=1,\n",
    "                    guidance=16,\n",
    "                    step=20,\n",
    "                    resize_check=True,\n",
    "                    fill_mode=\"patchmatch\",\n",
    "                    enable_safety=False,\n",
    "                    w=w,\n",
    "                    h=h\n",
    "                )\n",
    "                print(f\"img.size={img.size}\")\n",
    "                print(f\"new_img.size={new_img.size}\")\n",
    "                new_img.save(path_to_save_auged_img)\n",
    "\n",
    "                print(\"FOR COCO-------------------------\")\n",
    "\n",
    "                chitra_image = Chitra(img_path, [x0, y0, x1, y1], 'pipe')\n",
    "                chitra_image.resize_image_with_bbox((1380,800))\n",
    "                chitra_bbox = chitra_image.bboxes[0]\n",
    "                new_x0, new_y0, new_x1, new_y1 = (chitra_bbox.x1, chitra_bbox.y1, chitra_bbox.x2, chitra_bbox.y2)\n",
    "                new_bbox = [new_x0, new_y0, new_x1 - new_x0, new_y1 - new_y0]\n",
    "\n",
    "                aug_ann['images'].append(\n",
    "                    {\n",
    "                        \"width\": w,\n",
    "                        \"height\": h,\n",
    "                        \"id\": image_id,\n",
    "                        \"file_name\": os.path.basename(path_to_save_auged_img)\n",
    "                    }\n",
    "                )\n",
    "\n",
    "                aug_ann['annotations'].append(\n",
    "                    {\n",
    "                        \"id\": annotaion_id,\n",
    "                        \"image_id\": image_id,\n",
    "                        \"category_id\": int(category_id),\n",
    "                        \"segmentation\": [],\n",
    "                        \"bbox\": [\n",
    "                          int(new_bbox[0]),\n",
    "                          int(new_bbox[1]),\n",
    "                          math.ceil(new_bbox[2]),\n",
    "                          math.ceil(new_bbox[3])\n",
    "                        ],\n",
    "                        \"ignore\": 0,\n",
    "                        \"iscrowd\": 0,\n",
    "                        \"area\": math.ceil(new_bbox[2]) * math.ceil(new_bbox[3])\n",
    "                    }\n",
    "                )\n",
    "\n",
    "                i += 1\n",
    "                image_id += 1\n",
    "                annotaion_id += 1\n",
    "            \n"
   ]
  },
  {
   "cell_type": "markdown",
   "id": "efe512aa-5a6d-4fc9-aac6-f0b7c3a01c28",
   "metadata": {},
   "source": [
    "Сохраняем аннотации в формате coco:"
   ]
  },
  {
   "cell_type": "code",
   "execution_count": null,
   "id": "539f4898-7424-40bf-add5-ee6e3fe57a19",
   "metadata": {},
   "outputs": [],
   "source": [
    "with open(\"../img/test_stable_aug_ann_with_three_imgs.json\", 'w') as f:\n",
    "    json.dump(aug_ann, f)"
   ]
  },
  {
   "cell_type": "markdown",
   "id": "1a0bb12b-f5d0-4215-a159-b4ea65e4b4dd",
   "metadata": {},
   "source": [
    "### COCO to label-studio format"
   ]
  },
  {
   "cell_type": "code",
   "execution_count": null,
   "id": "72bd9dd9-3c07-4d72-a8ae-fed73c17508a",
   "metadata": {
    "tags": []
   },
   "outputs": [],
   "source": [
    "!git clone https://github.com/heartexlabs/label-studio-converter.git"
   ]
  },
  {
   "cell_type": "code",
   "execution_count": null,
   "id": "b084712e-dd38-4103-9c70-5ed3aade762f",
   "metadata": {},
   "outputs": [],
   "source": [
    "pip install -e ./label-studio-converter"
   ]
  },
  {
   "cell_type": "code",
   "execution_count": null,
   "id": "b71f7630-512b-4f73-b38b-0ef51bd2adeb",
   "metadata": {
    "tags": []
   },
   "outputs": [],
   "source": [
    "!label-studio-converter import coco -i img/test_stable_aug_ann_with_three_imgs.json -o img/stable_aug_for_label_studio.json"
   ]
  },
  {
   "cell_type": "code",
   "execution_count": null,
   "id": "81faac1d-0d33-46ea-9e2b-4c63be83b749",
   "metadata": {},
   "outputs": [],
   "source": []
  }
 ],
 "metadata": {
  "kernelspec": {
   "display_name": "Python 3",
   "language": "python",
   "name": "python3"
  },
  "language_info": {
   "codemirror_mode": {
    "name": "ipython",
    "version": 3
   },
   "file_extension": ".py",
   "mimetype": "text/x-python",
   "name": "python",
   "nbconvert_exporter": "python",
   "pygments_lexer": "ipython3",
   "version": "3.8.10 (default, Nov 14 2022, 12:59:47) \n[GCC 9.4.0]"
  },
  "vscode": {
   "interpreter": {
    "hash": "916dbcbb3f70747c44a77c7bcd40155683ae19c65e1c03b4aa3499c5328201f1"
   }
  }
 },
 "nbformat": 4,
 "nbformat_minor": 5
}
